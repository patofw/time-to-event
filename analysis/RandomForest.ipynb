{
 "cells": [
  {
   "cell_type": "markdown",
   "metadata": {},
   "source": [
    "# Random Forest Survival Analysis. \n",
    "\n",
    "Tree based algorithms are also a powerful alternative in survival analysis (SA). As in traditional machine learning, these type of models offer a good balance between robustness and \"explicability\", which makes them a great option in clinical environments where you need precise predictions in which its drivers can be identified and explained. "
   ]
  },
  {
   "cell_type": "markdown",
   "metadata": {},
   "source": [
    "## About the Data\n",
    "\n",
    "We are going to use Breast Cancer data from a German clinical tria. As described by Scikit-Survival: \n",
    "German Breast Cancer Study Group (GBSG-2) on the treatment of node-positive breast cancer patients. It contains data on 686 women and 8 prognostic factors: 1. age, 2. estrogen receptor (estrec), 3. whether or not a hormonal therapy was administered (horTh), 4. menopausal status (menostat), 5. number of positive lymph nodes (pnodes), 6. progesterone receptor (progrec), 7. tumor size (tsize, 8. tumor grade (tgrade).\n",
    "\n",
    "We are tasked with predicting recurrence-free survival time. In other words, the length of time from the end of primary treatment (such as surgery, radiation, or chemotherapy) until there is evidence of cancer recurrence or until the death of the patient, regardless of the cause"
   ]
  },
  {
   "cell_type": "code",
   "execution_count": null,
   "metadata": {},
   "outputs": [],
   "source": [
    "import pandas as pd\n",
    "import matplotlib.pyplot as plt\n",
    "import numpy as np\n",
    "import matplotlib.cm as cm\n",
    "\n",
    "\n",
    "from sklearn import set_config\n",
    "from sklearn.model_selection import train_test_split\n",
    "from sklearn.preprocessing import OrdinalEncoder\n",
    "\n",
    "from sksurv.datasets import load_gbsg2\n",
    "from sksurv.preprocessing import OneHotEncoder\n",
    "from sksurv.ensemble import RandomSurvivalForest\n",
    "\n",
    "from time_to_event.utils import dist_histogram, countplot\n",
    "\n",
    "set_config(display=\"text\")  # displays text representation of estimators\n",
    "\n",
    "plt.rcParams[\"figure.figsize\"] = (12, 8)\n",
    "plt.style.use(\"ggplot\")\n",
    "\n",
    "SEED: int = 123456  # set seed for reproducibility"
   ]
  },
  {
   "cell_type": "code",
   "execution_count": null,
   "metadata": {},
   "outputs": [],
   "source": [
    "data_X, y = load_gbsg2()\n",
    "data_X.head()\n"
   ]
  },
  {
   "cell_type": "code",
   "execution_count": null,
   "metadata": {},
   "outputs": [],
   "source": [
    "y[:5]"
   ]
  },
  {
   "cell_type": "markdown",
   "metadata": {},
   "source": [
    "##  EDA"
   ]
  },
  {
   "cell_type": "code",
   "execution_count": null,
   "metadata": {},
   "outputs": [],
   "source": [
    "eda_df = pd.concat(\n",
    "   [ \n",
    "       data_X,\n",
    "       pd.Series(y[\"cens\"], name=\"cens\"),\n",
    "       pd.Series(y[\"time\"], name=\"time\")\n",
    "    ],\n",
    "    axis=1\n",
    ")"
   ]
  },
  {
   "cell_type": "code",
   "execution_count": null,
   "metadata": {},
   "outputs": [],
   "source": [
    "eda_df.describe()"
   ]
  },
  {
   "cell_type": "code",
   "execution_count": null,
   "metadata": {},
   "outputs": [],
   "source": [
    "countplot(\n",
    "    df=eda_df,\n",
    "    x='menostat', \n",
    "    hue=\"cens\",\n",
    "    stat=\"percent\"\n",
    ")"
   ]
  },
  {
   "cell_type": "code",
   "execution_count": null,
   "metadata": {},
   "outputs": [],
   "source": [
    "countplot(\n",
    "    df=eda_df,\n",
    "    x='tgrade', \n",
    "    hue=\"cens\",\n",
    "    stat=\"percent\"\n",
    ")"
   ]
  },
  {
   "cell_type": "code",
   "execution_count": null,
   "metadata": {},
   "outputs": [],
   "source": [
    "dist_histogram(eda_df, \"age\", color=\"b\", hue_=\"cens\")"
   ]
  },
  {
   "cell_type": "code",
   "execution_count": null,
   "metadata": {},
   "outputs": [],
   "source": [
    "dist_histogram(eda_df, \"estrec\", color=\"b\", hue_=\"cens\")"
   ]
  },
  {
   "cell_type": "code",
   "execution_count": null,
   "metadata": {},
   "outputs": [],
   "source": [
    "dist_histogram(eda_df, \"tsize\", color=\"b\", hue_=\"cens\")"
   ]
  },
  {
   "cell_type": "markdown",
   "metadata": {},
   "source": [
    "## Modelling"
   ]
  },
  {
   "cell_type": "code",
   "execution_count": null,
   "metadata": {},
   "outputs": [],
   "source": [
    "# we are going to use one-hot encoding for the non numeric variables.\n",
    "# however, we want to mantain an order when it's important\n",
    "ordered_grade = OrdinalEncoder(\n",
    "    categories=[[\"I\", \"II\", \"III\"]]  # lowest to largest\n",
    ").fit_transform(data_X.tgrade.values.reshape(-1, 1))\n",
    "\n",
    "x_no_grade = data_X.drop(columns=[\"tgrade\"])\n",
    "X = OneHotEncoder().fit_transform(x_no_grade)\n",
    "# re-adding the grade column with proper ordering information.\n",
    "X[\"tgrade\"] = ordered_grade\n"
   ]
  },
  {
   "cell_type": "code",
   "execution_count": null,
   "metadata": {},
   "outputs": [],
   "source": [
    "TEST_SIZE: float = 0.3\n",
    "\n",
    "# Split train and test\n",
    "X_train, X_test, y_train, y_test = train_test_split(\n",
    "    X, y, \n",
    "    test_size=TEST_SIZE,\n",
    "    random_state=SEED\n",
    ")"
   ]
  },
  {
   "cell_type": "code",
   "execution_count": null,
   "metadata": {},
   "outputs": [],
   "source": [
    "# set up model params. I recommend playing with this to have different outcomes\n",
    "# You can also (and should) perform Cross Validation as you would with Scikit learn traditional ML\n",
    "model_params: dict = {\n",
    "    \"n_estimators\": 1_000,\n",
    "    \"min_samples_split\":8,\n",
    "    \"min_samples_leaf\":12,\n",
    "    \"n_jobs\":-1, \n",
    "    \"random_state\":SEED\n",
    "}\n",
    "\n",
    "rsf = RandomSurvivalForest(**model_params)\n",
    "# Train the model\n",
    "rsf.fit(X_train, y_train)"
   ]
  },
  {
   "cell_type": "markdown",
   "metadata": {},
   "source": [
    "### Model Evaluation. \n",
    "\n",
    "We are still using the concordance index, as described in the [Introduction](./introduction.ipynb) Notebook"
   ]
  },
  {
   "cell_type": "code",
   "execution_count": null,
   "metadata": {},
   "outputs": [],
   "source": [
    "# Evaluation\n",
    "# Again \n",
    "print(\"Concordance Index:\")\n",
    "print(round(rsf.score(X_test, y_test), 2))"
   ]
  },
  {
   "cell_type": "markdown",
   "metadata": {},
   "source": [
    "### Inspecting predictions\n",
    "\n",
    "For simplicity, let's sort the patients by pnodes and age. Pick a _N_ sample of the top and the same for the bottom of the resulting dataset, and compare their predicted risk score. "
   ]
  },
  {
   "cell_type": "code",
   "execution_count": null,
   "metadata": {},
   "outputs": [],
   "source": [
    "N: int = 5\n",
    "\n",
    "X_test_sorted = X_test.sort_values(by=[\"pnodes\", \"age\"])\n",
    "X_test_sel = pd.concat((X_test_sorted.head(N), X_test_sorted.tail(N)))\n",
    "\n",
    "X_test_sel"
   ]
  },
  {
   "cell_type": "code",
   "execution_count": null,
   "metadata": {},
   "outputs": [],
   "source": [
    "pd.Series(rsf.predict(X_test_sel))"
   ]
  },
  {
   "cell_type": "markdown",
   "metadata": {},
   "source": [
    "The predicted risk scores indicate that risk for the bottom patients is higher than that of those on the top of the sample overall. But what can be the case for the first patient?"
   ]
  },
  {
   "cell_type": "code",
   "execution_count": null,
   "metadata": {},
   "outputs": [],
   "source": [
    "surv = rsf.predict_survival_function(X_test_sel, return_array=True)\n",
    "# Create a colormap that goes from blue to red\n",
    "cmap = cm.CMRmap_r\n",
    "colors = cmap(np.linspace(0, 1, len(surv)))\n",
    "\n",
    "# Plot each line with a color from the colormap\n",
    "for i, (s, color) in enumerate(zip(surv, colors)):\n",
    "    plt.step(rsf.unique_times_, s, where=\"post\", label=f\"Patient sample {str(i)}\", color=color)\n",
    "plt.ylabel(\"Survival probability\")\n",
    "plt.xlabel(\"Time in days\")\n",
    "plt.legend()\n",
    "plt.grid(True)"
   ]
  },
  {
   "cell_type": "markdown",
   "metadata": {},
   "source": [
    "Another super useful metric is the **predicted cumulative hazard function**. We can plot it using the Survival package, but firt a brief introduction to what it represents. \n",
    "\n",
    "\n",
    "In survival analysis, the predicted cumulative hazard function is a way to describe the risk of an event happening over time.\n",
    "\n",
    "In simmple terms:\n",
    "\n",
    "Hazard Function: Think of the hazard function as the risk or rate of an event (like failure, death, or relapse) happening at a specific time. It tells you how risky it is for the event to occur at that precise moment, given that the individual has survived up to that time.\n",
    "\n",
    "Cumulative Hazard Function: Now, the cumulative hazard function adds up these risks over time. It accumulates the risk from the start of the observation period to a specific point in time.\n",
    "\n",
    "\n",
    "In mathematical terms, if the hazard function at time \n",
    "𝑡\n",
    "t is \n",
    "ℎ\n",
    "(\n",
    "𝑡\n",
    ")\n",
    "h(t), then the cumulative hazard function \n",
    "𝐻\n",
    "(\n",
    "𝑡\n",
    ")\n",
    "H(t) is the integral of \n",
    "ℎ\n",
    "(\n",
    "𝑡\n",
    ")\n",
    "h(t) from the start time to time \n",
    "𝑡\n",
    "t:\n",
    "\n",
    "𝐻\n",
    "(\n",
    "𝑡\n",
    ")\n",
    "=\n",
    "∫\n",
    "0\n",
    "𝑡\n",
    "ℎ\n",
    "(\n",
    "𝑢\n",
    ")\n",
    " \n",
    "𝑑\n",
    "𝑢\n",
    "H(t)=∫ \n",
    "0\n",
    "t\n",
    "​\n",
    " h(u)du\n",
    "\n",
    "In survival analysis, the cumulative hazard function helps in understanding the total risk accumulated over a period and can be used to estimate the survival function, which tells us the probability of surviving up to a certain time"
   ]
  },
  {
   "cell_type": "code",
   "execution_count": null,
   "metadata": {},
   "outputs": [],
   "source": [
    "surv = rsf.predict_cumulative_hazard_function(X_test_sel, return_array=True)\n",
    "\n",
    "cmap = cm.CMRmap_r\n",
    "colors = cmap(np.linspace(0, 1, len(surv)))\n",
    "\n",
    "# Plot each line with a color from the colormap\n",
    "for i, (s, color) in enumerate(zip(surv, colors)):\n",
    "    plt.step(rsf.unique_times_, s, where=\"post\", label=f\"Patient sample {str(i)}\", color=color)\n",
    "plt.ylabel(\"Cumulative hazard\")\n",
    "plt.xlabel(\"Time in days\")\n",
    "plt.legend()\n",
    "plt.grid(True)"
   ]
  },
  {
   "cell_type": "markdown",
   "metadata": {},
   "source": [
    "## Feature importance\n",
    "\n",
    "Similar to the ROC, the feature importance metrics in SA have an equivalent metric called [**Permutation Importance**](https://scikit-learn.org/stable/modules/generated/sklearn.inspection.permutation_importance.html#sklearn.inspection.permutation_importance) that allows us to see which features are the main drivers for our predictions. \n",
    "\n",
    "In the Scikit-survival library, this is implemented in the permutation_importance function of scikit-learn."
   ]
  },
  {
   "cell_type": "code",
   "execution_count": null,
   "metadata": {},
   "outputs": [],
   "source": [
    "from sklearn.inspection import permutation_importance\n",
    "\n",
    "N_REPEATS: int = 10\n",
    "\n",
    "result = permutation_importance(rsf, X_test, y_test, n_repeats=N_REPEATS, random_state=SEED)"
   ]
  },
  {
   "cell_type": "code",
   "execution_count": null,
   "metadata": {},
   "outputs": [],
   "source": [
    "importance_df = pd.DataFrame(\n",
    "    {\n",
    "        k: result[k]\n",
    "        for k in (\n",
    "            \"importances_mean\",\n",
    "            \"importances_std\",\n",
    "        )\n",
    "    },\n",
    "    index=X_test.columns,\n",
    ").sort_values(by=\"importances_mean\", ascending=False)\n",
    "\n",
    "importance_df"
   ]
  },
  {
   "cell_type": "code",
   "execution_count": null,
   "metadata": {},
   "outputs": [],
   "source": [
    "\n",
    "plt.bar(importance_df.index, importance_df.importances_mean)\n",
    "\n",
    "c = [1, 3, 2, 1]\n",
    "\n",
    "plt.errorbar(\n",
    "    importance_df.index,\n",
    "    importance_df.importances_mean,\n",
    "    yerr=importance_df.importances_std, \n",
    "    fmt=\"o\", \n",
    "    color=\"grey\"\n",
    ")\n",
    "\n",
    "plt.title(\"Feature Importance with error bars\")\n",
    "plt.show()\n"
   ]
  },
  {
   "cell_type": "code",
   "execution_count": null,
   "metadata": {},
   "outputs": [],
   "source": []
  }
 ],
 "metadata": {
  "kernelspec": {
   "display_name": "time_to_event",
   "language": "python",
   "name": "python3"
  },
  "language_info": {
   "codemirror_mode": {
    "name": "ipython",
    "version": 3
   },
   "file_extension": ".py",
   "mimetype": "text/x-python",
   "name": "python",
   "nbconvert_exporter": "python",
   "pygments_lexer": "ipython3",
   "version": "3.12.0"
  }
 },
 "nbformat": 4,
 "nbformat_minor": 2
}
