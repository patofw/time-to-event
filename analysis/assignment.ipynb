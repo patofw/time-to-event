{
 "cells": [
  {
   "cell_type": "markdown",
   "metadata": {},
   "source": [
    "# Assigment\n",
    "\n",
    "Using the Breast Cancer Dataset loaded below, predic the time to distant metastasis (cancer that has spread from the original (primary) tumor to distant organs or distant lymph nodes. Also called distant cancer) depending on the gene expressions and the other factors explained below. \n"
   ]
  },
  {
   "cell_type": "markdown",
   "metadata": {},
   "source": [
    "## About the data. \n",
    "\n",
    "We are going to use a breast cancer data-set also provided by the Scikit Survival library. \n",
    "\n",
    "The dataset contains the expression levels of **76 genes**, age, estrogen receptor status (er), tumor size and grade for 198 individuals. Again, the objective is to predict the time to distant metastasis "
   ]
  },
  {
   "cell_type": "code",
   "execution_count": null,
   "metadata": {},
   "outputs": [],
   "source": [
    "import pandas as pd\n",
    "from sksurv.datasets import load_breast_cancer"
   ]
  },
  {
   "cell_type": "code",
   "execution_count": null,
   "metadata": {},
   "outputs": [],
   "source": [
    "X, y = load_breast_cancer()"
   ]
  },
  {
   "cell_type": "code",
   "execution_count": null,
   "metadata": {},
   "outputs": [],
   "source": [
    "# Creating an EDA Df for simplicity\n",
    "eda_df = pd.concat(\n",
    "   [ \n",
    "       X,\n",
    "       pd.Series(y[\"e.tdm\"], name=\"Status\"),\n",
    "       pd.Series(y[\"t.tdm\"], name=\"Survival_in_days\")\n",
    "    ],\n",
    "    axis=1\n",
    ")"
   ]
  },
  {
   "cell_type": "code",
   "execution_count": null,
   "metadata": {},
   "outputs": [],
   "source": [
    "eda_df.head()"
   ]
  },
  {
   "cell_type": "markdown",
   "metadata": {},
   "source": [
    "# EDA \n",
    "\n",
    "- Task perform an EDA for a dataset with these many columns"
   ]
  },
  {
   "cell_type": "markdown",
   "metadata": {},
   "source": [
    "## Modelling "
   ]
  },
  {
   "cell_type": "code",
   "execution_count": null,
   "metadata": {},
   "outputs": [],
   "source": []
  },
  {
   "cell_type": "markdown",
   "metadata": {},
   "source": [
    "## Conclusions"
   ]
  },
  {
   "cell_type": "markdown",
   "metadata": {},
   "source": []
  }
 ],
 "metadata": {
  "kernelspec": {
   "display_name": "time_to_event",
   "language": "python",
   "name": "python3"
  },
  "language_info": {
   "codemirror_mode": {
    "name": "ipython",
    "version": 3
   },
   "file_extension": ".py",
   "mimetype": "text/x-python",
   "name": "python",
   "nbconvert_exporter": "python",
   "pygments_lexer": "ipython3",
   "version": "3.12.0"
  }
 },
 "nbformat": 4,
 "nbformat_minor": 2
}
