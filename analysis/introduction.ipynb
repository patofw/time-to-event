{
 "cells": [
  {
   "cell_type": "code",
   "execution_count": null,
   "metadata": {},
   "outputs": [],
   "source": [
    "import pandas as pd\n",
    "import numpy as np\n",
    "import seaborn as sns\n",
    "import matplotlib.pyplot as plt\n",
    "\n",
    "from sklearn import set_config\n",
    "from sksurv.datasets import load_veterans_lung_cancer\n",
    "from sksurv.nonparametric import kaplan_meier_estimator\n",
    "\n",
    "\n",
    "from sksurv.linear_model import CoxPHSurvivalAnalysis\n",
    "from sksurv.preprocessing import OneHotEncoder\n",
    "\n",
    "\n",
    "from time_to_event.utils import dist_histogram, countplot\n",
    "\n",
    "\n",
    "\n",
    "plt.rcParams[\"figure.figsize\"] = (12, 8)\n",
    "plt.style.use(\"ggplot\")"
   ]
  },
  {
   "cell_type": "markdown",
   "metadata": {},
   "source": [
    "## About the data\n",
    "\n",
    "We are working with the well known Veteran's Lung Cancer data, collected and made public for research a few years ago. This dataset contains information relevant to a clinical study that monitored cancer patients and registered the probability of survival after receiving treatment. It contains the following columns.\n",
    "\n",
    "- Treatment: denotes the type of lung cancer treatment; standard and test drug.\n",
    "- Celltype: denotes the type of cell involved; squamous, small cell, adeno, large.\n",
    "- Karnofsky_score: is the [Karnofsky score](http://www.npcrc.org/files/news/karnofsky_performance_scale.pdf).\n",
    "- Diag: is the time since diagnosis in months.\n",
    "- Age: is the age in years.\n",
    "- Prior_Therapy: denotes any prior therapy; none or yes.\n",
    "- Status: denotes the status of the patient as dead or alive; dead or alive.\n",
    "- Survival_in_days: is the survival time in days since the treatment.\n",
    "\n",
    "The key question to answer in these type of analysis is: \"What's the probability of a given patient to be alive in time _t_? \n",
    "\n",
    "This is a complicated problem as for example, if we contact patient X at time _t5_, we are certain that he/she was alive at _t5_, but we can't be certain this patient will still be alive at _t10_. This is why we depend heavily in probability and accept the fact that we are working with censored data. \n"
   ]
  },
  {
   "cell_type": "code",
   "execution_count": null,
   "metadata": {},
   "outputs": [],
   "source": [
    "data_x, data_y = load_veterans_lung_cancer()"
   ]
  },
  {
   "cell_type": "code",
   "execution_count": null,
   "metadata": {},
   "outputs": [],
   "source": [
    "data_x.head()"
   ]
  },
  {
   "cell_type": "code",
   "execution_count": null,
   "metadata": {},
   "outputs": [],
   "source": [
    "# the Y data has a peculiar format. Usually, it comes with a label and a time when a particular event has happened.\n",
    "data_y[:5]"
   ]
  },
  {
   "cell_type": "code",
   "execution_count": null,
   "metadata": {},
   "outputs": [],
   "source": [
    "# Creating an EDA Df for simplicity\n",
    "eda_df = pd.concat(\n",
    "   [ \n",
    "       data_x,\n",
    "       pd.Series(data_y[\"Status\"], name=\"Status\"),\n",
    "       pd.Series(data_y[\"Survival_in_days\"], name=\"Survival_in_days\")\n",
    "    ],\n",
    "    axis=1\n",
    ")"
   ]
  },
  {
   "cell_type": "markdown",
   "metadata": {},
   "source": [
    "## EDA\n",
    "\n",
    "Simple data exploration. You can expand on this for a deeper analysis."
   ]
  },
  {
   "cell_type": "code",
   "execution_count": null,
   "metadata": {},
   "outputs": [],
   "source": [
    "eda_df.describe()"
   ]
  },
  {
   "cell_type": "code",
   "execution_count": null,
   "metadata": {},
   "outputs": [],
   "source": [
    "# Celltype distribution\n",
    "countplot(\n",
    "    df=eda_df,\n",
    "    x='Celltype', \n",
    "    hue=\"Status\",\n",
    "    stat=\"percent\"\n",
    ")\n"
   ]
  },
  {
   "cell_type": "code",
   "execution_count": null,
   "metadata": {},
   "outputs": [],
   "source": [
    "# Treatment distribution\n",
    "countplot(\n",
    "    df=eda_df,\n",
    "    x='Treatment', \n",
    "    hue=\"Status\",\n",
    "    stat=\"percent\"\n",
    ")\n"
   ]
  },
  {
   "cell_type": "code",
   "execution_count": null,
   "metadata": {},
   "outputs": [],
   "source": [
    "dist_histogram(eda_df, \"Survival_in_days\", color=\"r\")"
   ]
  },
  {
   "cell_type": "code",
   "execution_count": null,
   "metadata": {},
   "outputs": [],
   "source": [
    "dist_histogram(eda_df, \"Age_in_years\", color=\"b\")"
   ]
  },
  {
   "cell_type": "code",
   "execution_count": null,
   "metadata": {},
   "outputs": [],
   "source": [
    "dist_histogram(eda_df, \"Age_in_years\", color=\"b\", hue_=\"Status\")"
   ]
  },
  {
   "cell_type": "code",
   "execution_count": null,
   "metadata": {},
   "outputs": [],
   "source": [
    "dist_histogram(eda_df, \"Months_from_Diagnosis\", color=\"b\", hue_=\"Status\")"
   ]
  },
  {
   "cell_type": "code",
   "execution_count": null,
   "metadata": {},
   "outputs": [],
   "source": [
    "g = sns.PairGrid(eda_df, hue=\"Status\")\n",
    "g.map_diag(sns.histplot)\n",
    "g.map_offdiag(sns.scatterplot)\n",
    "g.add_legend()\n",
    "plt.show()"
   ]
  },
  {
   "cell_type": "markdown",
   "metadata": {},
   "source": [
    "We can see that regretfully, most patients died during the study. For our analysis, this means that most of our data in uncensored as we know when the **event == death** happened."
   ]
  },
  {
   "cell_type": "markdown",
   "metadata": {},
   "source": [
    "## Simple survival probability function.\n",
    "\n",
    "One of the most common methods to analyse survival probability is the [Kaplan Meier Estimator](https://en.wikipedia.org/wiki/Kaplan%E2%80%93Meier_estimator)\n",
    "\n",
    "In medical research, it is often used to measure the fraction of patients living for a certain amount of time after treatment"
   ]
  },
  {
   "cell_type": "code",
   "execution_count": null,
   "metadata": {},
   "outputs": [],
   "source": [
    "\n",
    "time, survival_prob, conf_int = kaplan_meier_estimator(\n",
    "    data_y[\"Status\"], data_y[\"Survival_in_days\"], conf_type=\"log-log\"\n",
    ")\n",
    "plt.step(time, survival_prob, where=\"post\")\n",
    "plt.fill_between(time, conf_int[0], conf_int[1], alpha=0.25, step=\"post\")\n",
    "plt.ylim(0, 1)\n",
    "plt.ylabel(r\"est. probability of survival $\\hat{S}(t)$\")\n",
    "plt.xlabel(\"time $t$\")\n"
   ]
  },
  {
   "cell_type": "markdown",
   "metadata": {},
   "source": [
    "We can see that most patients died at _t200_ (200 days). The elbow curve practically flattens at _t400_"
   ]
  },
  {
   "cell_type": "markdown",
   "metadata": {},
   "source": [
    "## Adding other variables"
   ]
  },
  {
   "cell_type": "code",
   "execution_count": null,
   "metadata": {},
   "outputs": [],
   "source": [
    "for treatment_type in (\"standard\", \"test\"):\n",
    "    mask_treat = data_x[\"Treatment\"] == treatment_type\n",
    "    time_treatment, survival_prob_treatment, conf_int = kaplan_meier_estimator(\n",
    "        data_y[\"Status\"][mask_treat],\n",
    "        data_y[\"Survival_in_days\"][mask_treat],\n",
    "        conf_type=\"log-log\",\n",
    "    )\n",
    "\n",
    "    plt.step(time_treatment, survival_prob_treatment, where=\"post\", label=f\"Treatment = {treatment_type}\")\n",
    "    plt.fill_between(time_treatment, conf_int[0], conf_int[1], alpha=0.25, step=\"post\")\n",
    "\n",
    "plt.ylim(0, 1)\n",
    "plt.ylabel(r\"est. probability of survival $\\hat{S}(t)$\")\n",
    "plt.xlabel(\"time $t$\")\n",
    "plt.legend(loc=\"best\")"
   ]
  },
  {
   "cell_type": "code",
   "execution_count": null,
   "metadata": {},
   "outputs": [],
   "source": [
    "for value in data_x[\"Celltype\"].unique():\n",
    "    mask = data_x[\"Celltype\"] == value\n",
    "    time_cell, survival_prob_cell, conf_int = kaplan_meier_estimator(\n",
    "        data_y[\"Status\"][mask], data_y[\"Survival_in_days\"][mask], conf_type=\"log-log\"\n",
    "    )\n",
    "    plt.step(time_cell, survival_prob_cell, where=\"post\", label=f\"{value} (n = {mask.sum()})\")\n",
    "    plt.fill_between(time_cell, conf_int[0], conf_int[1], alpha=0.25, step=\"post\")\n",
    "\n",
    "plt.ylim(0, 1)\n",
    "plt.ylabel(r\"est. probability of survival $\\hat{S}(t)$\")\n",
    "plt.xlabel(\"time $t$\")\n",
    "plt.legend(loc=\"best\")\n",
    "plt.show()"
   ]
  },
  {
   "cell_type": "markdown",
   "metadata": {},
   "source": [
    "## Multivariate Model\n",
    "\n",
    "We can build linear estimators similar to a logistic regression, to pin point the drivers that boost or hinder survival in a patient. "
   ]
  },
  {
   "cell_type": "code",
   "execution_count": null,
   "metadata": {},
   "outputs": [],
   "source": [
    "\n",
    "data_x_numeric = OneHotEncoder().fit_transform(data_x)\n",
    "data_x_numeric.head()"
   ]
  },
  {
   "cell_type": "code",
   "execution_count": null,
   "metadata": {},
   "outputs": [],
   "source": [
    "# let's create 4 new patients. Assuming they just joined the trail. We want to estimate their survival probability\n",
    "\n",
    "x_new = pd.DataFrame.from_dict(\n",
    "    {\n",
    "        1: [65, 0, 0, 1, 60, 1, 0, 1],\n",
    "        2: [65, 0, 0, 1, 60, 1, 0, 0],\n",
    "        3: [65, 0, 1, 0, 60, 1, 0, 0],\n",
    "        4: [65, 0, 1, 0, 60, 1, 0, 1],\n",
    "    },\n",
    "    columns=data_x_numeric.columns,\n",
    "    orient=\"index\",\n",
    ")\n",
    "x_new"
   ]
  },
  {
   "cell_type": "code",
   "execution_count": null,
   "metadata": {},
   "outputs": [],
   "source": [
    "set_config(display=\"text\")  # displays text representation of estimators. Needed in some Jupyter environments.\n",
    "\n",
    "estimator = CoxPHSurvivalAnalysis()  # this is one of the most common models for SA.\n",
    "estimator.fit(data_x_numeric, data_y)\n",
    "\n",
    "# make predictions with the new patients.\n",
    "N: int = 1_000  # observation lenght in days\n",
    "pred_surv = estimator.predict_survival_function(x_new)\n",
    "time_points = np.arange(1, N)\n",
    "for i, surv_func in enumerate(pred_surv):\n",
    "    plt.step(time_points, surv_func(time_points), where=\"post\", label=f\"New patient {i + 1}\")\n",
    "plt.ylabel(r\"est. probability of survival $\\hat{S}(t)$\")\n",
    "plt.xlabel(\"time $t$\")\n",
    "plt.legend(loc=\"best\")\n",
    "plt.show()"
   ]
  },
  {
   "cell_type": "code",
   "execution_count": null,
   "metadata": {},
   "outputs": [],
   "source": [
    "# coefficients \n",
    "\n",
    "pd.Series(\n",
    "    estimator.coef_,  # we can access the coefficients as it is a linear model\n",
    "    index=data_x_numeric.columns\n",
    ").plot(\n",
    "    kind=\"bar\",\n",
    "    title=\"Feature Contribution\",\n",
    "    ylabel=\"Contribution\"\n",
    ")\n",
    "plt.show()"
   ]
  },
  {
   "cell_type": "markdown",
   "metadata": {},
   "source": [
    "Is the treatment (`Treatment == test`) working?"
   ]
  },
  {
   "cell_type": "markdown",
   "metadata": {},
   "source": [
    "## Evaluation\n",
    "\n",
    "Evaluation is not as a traditional classification problem, however, Survival Analysis has a metric very similar to the [ROC score](https://www.evidentlyai.com/classification-metrics/explain-roc-curve#:~:text=The%20ROC%20AUC%20score%20can,inadequate%20for%20any%20real%20applications.), called Concordance Index. Its prinicple is basically the same, higher than 0.5 means better than random, a value of 1 means a perfect classifier, values lower than 0.5 means worse than random.\n",
    "\n",
    "It's of course, embedded in the Scikit-survival Library"
   ]
  },
  {
   "cell_type": "code",
   "execution_count": null,
   "metadata": {},
   "outputs": [],
   "source": [
    "round(estimator.score(data_x_numeric, data_y), 2)\n"
   ]
  },
  {
   "cell_type": "code",
   "execution_count": null,
   "metadata": {},
   "outputs": [],
   "source": []
  }
 ],
 "metadata": {
  "kernelspec": {
   "display_name": "jude",
   "language": "python",
   "name": "python3"
  },
  "language_info": {
   "codemirror_mode": {
    "name": "ipython",
    "version": 3
   },
   "file_extension": ".py",
   "mimetype": "text/x-python",
   "name": "python",
   "nbconvert_exporter": "python",
   "pygments_lexer": "ipython3",
   "version": "3.12.0"
  }
 },
 "nbformat": 4,
 "nbformat_minor": 2
}
